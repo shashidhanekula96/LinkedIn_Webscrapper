{
 "cells": [
  {
   "cell_type": "code",
   "execution_count": 12,
   "metadata": {},
   "outputs": [
    {
     "name": "stderr",
     "output_type": "stream",
     "text": [
      "C:\\Users\\shash\\Anaconda3\\lib\\site-packages\\ipykernel_launcher.py:8: DeprecationWarning: use options instead of chrome_options\n",
      "  \n"
     ]
    },
    {
     "name": "stdout",
     "output_type": "stream",
     "text": [
      "failed\n"
     ]
    },
    {
     "ename": "NameError",
     "evalue": "name 'location' is not defined",
     "output_type": "error",
     "traceback": [
      "\u001b[1;31m---------------------------------------------------------------------------\u001b[0m",
      "\u001b[1;31mNameError\u001b[0m                                 Traceback (most recent call last)",
      "\u001b[1;32m<ipython-input-12-15252881ea5d>\u001b[0m in \u001b[0;36m<module>\u001b[1;34m\u001b[0m\n\u001b[0;32m     46\u001b[0m     \u001b[0muserDetailsDict\u001b[0m\u001b[1;33m[\u001b[0m\u001b[1;34m'job_title'\u001b[0m\u001b[1;33m]\u001b[0m \u001b[1;33m=\u001b[0m \u001b[0mjob_title\u001b[0m\u001b[1;33m\u001b[0m\u001b[1;33m\u001b[0m\u001b[0m\n\u001b[0;32m     47\u001b[0m     \u001b[0muserDetailsDict\u001b[0m\u001b[1;33m[\u001b[0m\u001b[1;34m'schools'\u001b[0m\u001b[1;33m]\u001b[0m \u001b[1;33m=\u001b[0m \u001b[0mschools\u001b[0m\u001b[1;33m\u001b[0m\u001b[1;33m\u001b[0m\u001b[0m\n\u001b[1;32m---> 48\u001b[1;33m     \u001b[0muserDetailsDict\u001b[0m\u001b[1;33m[\u001b[0m\u001b[1;34m'location'\u001b[0m\u001b[1;33m]\u001b[0m \u001b[1;33m=\u001b[0m \u001b[0mlocation\u001b[0m\u001b[1;33m\u001b[0m\u001b[1;33m\u001b[0m\u001b[0m\n\u001b[0m\u001b[0;32m     49\u001b[0m     \u001b[0muserDetailsDict\u001b[0m\u001b[1;33m[\u001b[0m\u001b[1;34m'ln_url'\u001b[0m\u001b[1;33m]\u001b[0m \u001b[1;33m=\u001b[0m \u001b[0mln_url\u001b[0m\u001b[1;33m\u001b[0m\u001b[1;33m\u001b[0m\u001b[0m\n\u001b[0;32m     50\u001b[0m \u001b[1;33m\u001b[0m\u001b[0m\n",
      "\u001b[1;31mNameError\u001b[0m: name 'location' is not defined"
     ]
    }
   ],
   "source": [
    "#Imports various required Libraries\n",
    "import csv\n",
    "import pandas as pd\n",
    "from parsel import Selector\n",
    "from selenium import webdriver\n",
    "from selenium.webdriver.common.keys import Keys\n",
    "\n",
    "# By using latest version of chrome Webdriver from selenium we are accesing the LinkedIn website on chrome\n",
    "options = webdriver.ChromeOptions()\n",
    "options.add_argument('headless')\n",
    "driver = webdriver.Chrome(executable_path=\"C:\\\\Users\\shash\\Downloads\\chromedriver_win32 (1)\\\\chromedriver.exe\", chrome_options=options)\n",
    "driver.get('https://www.linkedin.com/')\n",
    "\n",
    "driver.find_element_by_xpath('//a[text()=\"Sign in\"]').click() # Signing in to My LinkedIn account\n",
    "username_input = driver.find_element_by_name('session_key')\n",
    "username_input.send_keys('dhanekula.sh@northeastern.edu')\n",
    "password_input = driver.find_element_by_name('session_password')\n",
    "password_input.send_keys('******')     # click on the sign in button\n",
    "\n",
    "# we're finding Sign in text button as it seems this element is seldom to be changed\n",
    "driver.find_element_by_xpath('//button[text()=\"Sign in\"]').click()\n",
    "\n",
    "# creating a Pandas dataframe which consists of user names which we need to search and extract data \n",
    "linkedinSample = pd.read_csv('LinkedIn_sample_users.csv')\n",
    "linkedinSample_list = linkedinSample['Links']\n",
    "usersDetailsList = []\n",
    "\n",
    "# visit each profile in linkedin and grab detail we want to get\n",
    "for profile in linkedinSample_list:\n",
    "    driver.get(profile)\n",
    "\n",
    "    try:\n",
    "        sel = Selector(text=driver.page_source)\n",
    "        name = sel.xpath('//title/text()').extract_first().split(' | ')[0]\n",
    "        job_title = sel.xpath('//h2/text()').extract_first().strip()\n",
    "        schools = ', '.join(sel.xpath('//*[contains(@class, \"pv-entity__school-name\")]/text()').extract())\n",
    "        location = sel.xpath('//*[@class=\"t-16 t-black t-normal inline-block\"]/text()').extract_first().strip()\n",
    "        ln_url = driver.current_url\n",
    "        \"\"\"\n",
    "        you can add another logic in case parsing is failed, ie because no job title is found\n",
    "        because the linkedin user isn't add it\n",
    "        \"\"\"\n",
    "    except:\n",
    "        print('failed')\n",
    "\n",
    "    # print to console for testing purpose\n",
    "    userDetailsDict = {}\n",
    "    userDetailsDict['name'] = name\n",
    "    userDetailsDict['job_title'] = job_title\n",
    "    userDetailsDict['schools'] = schools\n",
    "    userDetailsDict['location'] = location\n",
    "    userDetailsDict['ln_url'] = ln_url\n",
    "    \n",
    "    print(userDetailsDict)\n",
    "    usersDetailsList.append(userDetailsDict)\n",
    "keys = usersDetailsDict[0].keys()\n",
    "\n",
    "# Here I am creating a new csv file with all the details extracted using Selenium driver\n",
    "with open('LinkedIn_Users.csv', 'wb') as output_file:\n",
    "    dict_writer = csv.DictWriter(output_file, keys)\n",
    "    dict_writer.writeheader()\n",
    "    dict_writer.writerows(usersDetailsDict)\n",
    "\n",
    "with open('Linkedin_Users.csv', 'w', encoding='utf8', newline='') as output_file:\n",
    "    fc = csv.DictWriter(output_file, fieldnames=usersDetailsList[0].keys())\n",
    "    fc.writeheader()\n",
    "    fc.writerows(usersDetailsList)\n",
    "    \n",
    "    \n",
    "   # print(usersDetailsDict)\n",
    "\n",
    "#    writer.writerow([name, job_title, schools, location, ln_url])\n",
    "\n",
    "driver.quit()"
   ]
  },
  {
   "cell_type": "code",
   "execution_count": 10,
   "metadata": {},
   "outputs": [
    {
     "name": "stderr",
     "output_type": "stream",
     "text": [
      "C:\\Users\\shash\\Anaconda3\\lib\\site-packages\\ipykernel_launcher.py:8: DeprecationWarning: use options instead of chrome_options\n",
      "  \n"
     ]
    }
   ],
   "source": [
    "import csv\n",
    "import pandas as pd\n",
    "from parsel import Selector\n",
    "from selenium import webdriver\n",
    "from selenium.webdriver.common.keys import Keys\n",
    "options = webdriver.ChromeOptions()\n",
    "options.add_argument('headless')\n",
    "driver = webdriver.Chrome(executable_path=\"C:\\\\Users\\shash\\Downloads\\chromedriver_win32 (1)\\\\chromedriver.exe\", chrome_options=options)\n",
    "driver.get('https://www.google.com/')"
   ]
  }
 ],
 "metadata": {
  "kernelspec": {
   "display_name": "Python 3",
   "language": "python",
   "name": "python3"
  },
  "language_info": {
   "codemirror_mode": {
    "name": "ipython",
    "version": 3
   },
   "file_extension": ".py",
   "mimetype": "text/x-python",
   "name": "python",
   "nbconvert_exporter": "python",
   "pygments_lexer": "ipython3",
   "version": "3.6.12"
  }
 },
 "nbformat": 4,
 "nbformat_minor": 2
}
